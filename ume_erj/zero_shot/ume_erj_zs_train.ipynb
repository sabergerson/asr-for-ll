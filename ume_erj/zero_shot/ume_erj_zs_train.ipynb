{
 "cells": [
  {
   "cell_type": "code",
   "execution_count": null,
   "id": "f7ab895c-7c2e-417b-849d-5a3ef76def99",
   "metadata": {},
   "outputs": [],
   "source": [
    "import torch, os\n",
    "from huggingface_hub import login\n",
    "from datasets import load_dataset, Audio\n",
    "from transformers import WhisperForConditionalGeneration, WhisperProcessor\n",
    "from english import EnglishTextNormalizer\n",
    "\n",
    "# Set device to GPU\n",
    "device = torch.device(\"cuda\" if torch.cuda.is_available() else \"cpu\")\n",
    "\n",
    "# Log into HuggingFace Hub\n",
    "os.environ['HUGGINGFACE_HUB_TOKEN'] = '####'\n",
    "login(token=os.environ['HUGGINGFACE_HUB_TOKEN'])"
   ]
  },
  {
   "cell_type": "code",
   "execution_count": 2,
   "id": "d16326ac-ba17-41d0-94bb-7873901a9d3d",
   "metadata": {},
   "outputs": [],
   "source": [
    "# Load dataset\n",
    "umeerj_dev = load_dataset(\"sage-bergerson/ume_erj_spk_whisper\", split=\"dev\", token=True)\n",
    "\n",
    "# Resample audio to 16kH\n",
    "umeerj_dev = umeerj_dev.cast_column(\"audio\", Audio(sampling_rate=16000))\n",
    "\n",
    "# Initialize Whisper Processor\n",
    "processor = WhisperProcessor.from_pretrained(\"openai/whisper-large\", language=\"English\", task=\"transcribe\")\n",
    "\n",
    "# Download and initialize Whisper model\n",
    "model = WhisperForConditionalGeneration.from_pretrained(\"openai/whisper-large\").to(device)\n",
    "model.generation_config.language = \"english\"\n",
    "model.generation_config.task = \"transcribe\"\n",
    "model.generation_config.forced_decoder_ids = None"
   ]
  },
  {
   "cell_type": "code",
   "execution_count": null,
   "id": "3ca3d062-369a-4b0d-9082-4a63894cab7a",
   "metadata": {},
   "outputs": [],
   "source": [
    "# Function: Generate transcript predictions\n",
    "def map_to_pred(batch):\n",
    "    audio = batch['audio']\n",
    "    input_features = processor(audio[\"array\"], sampling_rate=audio[\"sampling_rate\"], return_tensors=\"pt\").input_features.to(device)\n",
    "    batch[\"reference\"] = processor.tokenizer.normalize(batch['transcript'])\n",
    "\n",
    "    with torch.no_grad():\n",
    "        predicted_ids = model.generate(input_features)[0]\n",
    "    transcription = processor.decode(predicted_ids)\n",
    "    batch[\"prediction\"] = processor.tokenizer.normalize(transcription)\n",
    "    return batch\n",
    "\n",
    "# Generate transcript predictions\n",
    "result = umeerj_dev.map(map_to_pred)"
   ]
  },
  {
   "cell_type": "code",
   "execution_count": 6,
   "id": "6093bca7-b94c-4956-a632-aaee0efdd9c1",
   "metadata": {},
   "outputs": [],
   "source": [
    "# Initialize text normalizer\n",
    "norm = EnglishTextNormalizer()\n",
    "\n",
    "# Function to filter and clean the transcripts\n",
    "def clean(item):\n",
    "\n",
    "    # Clean the transcript\n",
    "    item['reference'] = norm(item['reference'])\n",
    "    item['prediction'] = norm(item['prediction'])\n",
    "    \n",
    "    return True\n",
    "\n",
    "# Apply the filter and clean function\n",
    "filtered_result = [item for item in result if clean(item)]"
   ]
  },
  {
   "cell_type": "code",
   "execution_count": 7,
   "id": "717d753c-d55a-4d6b-afdf-741c81fda5e7",
   "metadata": {},
   "outputs": [],
   "source": [
    "# Write final results to two separate files for SCLITE\n",
    "reference_filename = 'dev_references.txt'\n",
    "prediction_filename = 'dev_predictions.txt'\n",
    "\n",
    "with open(reference_filename, 'w', newline='', encoding='utf-8') as ref_file, \\\n",
    "     open(prediction_filename, 'w', newline='', encoding='utf-8') as pred_file:\n",
    "    for item in filtered_result:\n",
    "        ref_file.write(f\"{item['reference']} ({item['code']})\\n\")\n",
    "        pred_file.write(f\"{item['prediction']} ({item['code']})\\n\")"
   ]
  }
 ],
 "metadata": {
  "kernelspec": {
   "display_name": "Python 3 (ipykernel)",
   "language": "python",
   "name": "python3"
  },
  "language_info": {
   "codemirror_mode": {
    "name": "ipython",
    "version": 3
   },
   "file_extension": ".py",
   "mimetype": "text/x-python",
   "name": "python",
   "nbconvert_exporter": "python",
   "pygments_lexer": "ipython3",
   "version": "3.10.13"
  }
 },
 "nbformat": 4,
 "nbformat_minor": 5
}
