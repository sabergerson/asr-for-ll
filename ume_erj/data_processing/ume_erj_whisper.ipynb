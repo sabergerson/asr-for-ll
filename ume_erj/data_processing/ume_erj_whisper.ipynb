{
 "cells": [
  {
   "cell_type": "code",
   "execution_count": null,
   "id": "5b817eff-93d3-44f0-9fbe-e926b8d6a080",
   "metadata": {},
   "outputs": [],
   "source": [
    "# Import packages\n",
    "import os\n",
    "from huggingface_hub import login\n",
    "from datasets import load_dataset, DatasetDict, Audio\n",
    "from transformers import (\n",
    "    WhisperFeatureExtractor,\n",
    "    WhisperTokenizer,\n",
    "    WhisperProcessor\n",
    ")\n",
    "\n",
    "# Log into HuggingFace Hub\n",
    "os.environ['HUGGINGFACE_HUB_TOKEN'] = '####'\n",
    "login(token=os.environ['HUGGINGFACE_HUB_TOKEN'])"
   ]
  },
  {
   "cell_type": "code",
   "execution_count": null,
   "id": "d16326ac-ba17-41d0-94bb-7873901a9d3d",
   "metadata": {},
   "outputs": [],
   "source": [
    "# Load and split dataset\n",
    "umeerj = DatasetDict()\n",
    "umeerj = load_dataset(\"sage-bergerson/ume_erj_whisper\", token=True)\n",
    "umeerj = umeerj.remove_columns([\"code\"])\n",
    "\n",
    "# Resample audio to 16kH\n",
    "umeerj = umeerj.cast_column(\"audio\", Audio(sampling_rate=16000))\n",
    "\n",
    "# Initialize Whisper processing tools\n",
    "feature_extractor = WhisperFeatureExtractor.from_pretrained(\"openai/whisper-large\")\n",
    "tokenizer = WhisperTokenizer.from_pretrained(\"openai/whisper-large\", language=\"English\", task=\"transcribe\")\n",
    "processor = WhisperProcessor.from_pretrained(\"openai/whisper-large\", language=\"English\", task=\"transcribe\")\n",
    "\n",
    "# Function: Process data for Whisper\n",
    "def prepare_dataset(batch):\n",
    "    \n",
    "    # Resample audio to 16kHz\n",
    "    audio = batch[\"audio\"]\n",
    "\n",
    "    # Compute log-Mel input features from audio array\n",
    "    batch[\"input_features\"] = feature_extractor(audio[\"array\"], sampling_rate=audio[\"sampling_rate\"]).input_features[0]\n",
    "\n",
    "    # Encode target text to label ids\n",
    "    batch[\"labels\"] = tokenizer(batch[\"transcript\"], max_length=1024, truncation=True).input_ids\n",
    "    return batch\n",
    "\n",
    "# Process data for Whisper\n",
    "umeerj = umeerj.map(prepare_dataset, remove_columns=umeerj.column_names[\"train\"], num_proc=2)"
   ]
  },
  {
   "cell_type": "code",
   "execution_count": null,
   "id": "aae8c12a-34db-494d-be56-d4f8b76b8c41",
   "metadata": {},
   "outputs": [],
   "source": [
    "# Push processed dataset to Hugging Face Hub\n",
    "umeerj.push_to_hub(\"ume_erj_processed\", token=os.environ['HUGGINGFACE_HUB_TOKEN'])"
   ]
  }
 ],
 "metadata": {
  "kernelspec": {
   "display_name": "Python 3 (ipykernel)",
   "language": "python",
   "name": "python3"
  },
  "language_info": {
   "codemirror_mode": {
    "name": "ipython",
    "version": 3
   },
   "file_extension": ".py",
   "mimetype": "text/x-python",
   "name": "python",
   "nbconvert_exporter": "python",
   "pygments_lexer": "ipython3",
   "version": "3.11.9"
  }
 },
 "nbformat": 4,
 "nbformat_minor": 5
}
