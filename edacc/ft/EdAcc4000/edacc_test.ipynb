{
 "cells": [
  {
   "cell_type": "code",
   "execution_count": null,
   "id": "f7ab895c-7c2e-417b-849d-5a3ef76def99",
   "metadata": {},
   "outputs": [],
   "source": [
    "import torch, os, re\n",
    "from huggingface_hub import login\n",
    "from datasets import load_dataset, Audio\n",
    "from transformers import WhisperForConditionalGeneration, WhisperProcessor\n",
    "from english import EnglishTextNormalizer\n",
    "from collections import defaultdict\n",
    "\n",
    "# Set device to GPU\n",
    "device = torch.device(\"cuda\" if torch.cuda.is_available() else \"cpu\")\n",
    "\n",
    "# Log into HuggingFace Hub\n",
    "os.environ['HUGGINGFACE_HUB_TOKEN'] = '####'\n",
    "login(token=os.environ['HUGGINGFACE_HUB_TOKEN'])"
   ]
  },
  {
   "cell_type": "code",
   "execution_count": null,
   "id": "d16326ac-ba17-41d0-94bb-7873901a9d3d",
   "metadata": {},
   "outputs": [],
   "source": [
    "# Load dataset\n",
    "edacc_test = load_dataset(\"sage-bergerson/edacc_whisper\", split=\"test\", token=True)\n",
    "\n",
    "# Resample audio to 16kH\n",
    "edacc_test = edacc_test.cast_column(\"audio\", Audio(sampling_rate=16000))\n",
    "\n",
    "# Initialize Whisper Processor\n",
    "processor = WhisperProcessor.from_pretrained(\"openai/whisper-large\", language=\"English\", task=\"transcribe\")\n",
    "\n",
    "# Download and initialize Whisper model\n",
    "model = WhisperForConditionalGeneration.from_pretrained(\"sage-bergerson/whisper-large-edacc\").to(device)\n",
    "model.generation_config.language = \"english\"\n",
    "model.generation_config.task = \"transcribe\"\n",
    "model.generation_config.forced_decoder_ids = None"
   ]
  },
  {
   "cell_type": "code",
   "execution_count": null,
   "id": "3ca3d062-369a-4b0d-9082-4a63894cab7a",
   "metadata": {},
   "outputs": [],
   "source": [
    "# Function: Generate transcript predictions\n",
    "def map_to_pred(batch):\n",
    "    audio = batch['audio']\n",
    "    input_features = processor(audio[\"array\"], sampling_rate=audio[\"sampling_rate\"], return_tensors=\"pt\").input_features.to(device)\n",
    "    batch[\"reference\"] = processor.tokenizer.normalize(batch['transcript'])\n",
    "\n",
    "    with torch.no_grad():\n",
    "        predicted_ids = model.generate(input_features)[0]\n",
    "    transcription = processor.decode(predicted_ids)\n",
    "    batch[\"prediction\"] = processor.tokenizer.normalize(transcription)\n",
    "    return batch\n",
    "\n",
    "# Generate transcript predictions\n",
    "result = edacc_test.map(map_to_pred)"
   ]
  },
  {
   "cell_type": "code",
   "execution_count": null,
   "id": "8fabd87e-e478-48e3-91bf-a06fa3a61ad9",
   "metadata": {},
   "outputs": [],
   "source": [
    "# Initialize text normalizer\n",
    "norm = EnglishTextNormalizer()\n",
    "\n",
    "# Define special tokens\n",
    "special_tokens = [\n",
    "    '<overlap>', '<laugh>', '<foreign>', '<no-speech>', '<lipsmack>', \n",
    "    '<breath>', '<click>', '<cough>', '<dtmf>', '<ring>']\n",
    "\n",
    "# Function: Filter out empty reference transcripts and clean transcripts\n",
    "def clean(item, special_tokens):\n",
    "\n",
    "    # Remove special tokens\n",
    "    pattern = '|'.join(map(re.escape, special_tokens))\n",
    "    item['reference'] = norm(re.sub(pattern, '', item['reference']))\n",
    "    item['prediction'] = norm(re.sub(pattern, '', item['prediction']))\n",
    "\n",
    "    return True\n",
    "\n",
    "# Filter and clean the transcripts\n",
    "result = [item for item in result if clean(item, special_tokens)]"
   ]
  },
  {
   "cell_type": "code",
   "execution_count": null,
   "id": "ec93079c",
   "metadata": {},
   "outputs": [],
   "source": [
    "# Group results into conversations\n",
    "grouped = defaultdict(lambda: {\"code\": \"\", \"reference\": \"\", \"prediction\": \"\"})\n",
    "\n",
    "for item in result:\n",
    "    group_key = item[\"code\"][:12]\n",
    "    if not grouped[group_key][\"code\"]:\n",
    "        grouped[group_key][\"code\"] = group_key[:12]\n",
    "    grouped[group_key][\"reference\"] += \" \" + item[\"reference\"]\n",
    "    grouped[group_key][\"prediction\"] += \" \" + item[\"prediction\"]\n",
    "\n",
    "# Format conversation-level results\n",
    "final_result = [{\"code\": value[\"code\"], \"reference\": value[\"reference\"].strip(), \"prediction\": value[\"prediction\"].strip()} for value in grouped.values()]\n",
    "\n",
    "# Write final results to two separate files for SCLITE\n",
    "reference_filename = 'ft_references.txt'\n",
    "prediction_filename = 'ft_predictions.txt'\n",
    "\n",
    "with open(reference_filename, 'w', newline='', encoding='utf-8') as ref_file, \\\n",
    "     open(prediction_filename, 'w', newline='', encoding='utf-8') as pred_file:\n",
    "    for item in final_result:\n",
    "        ref_file.write(f\"{item['reference']} ({item['code']})\\n\")\n",
    "        pred_file.write(f\"{item['prediction']} ({item['code']})\\n\")"
   ]
  }
 ],
 "metadata": {
  "kernelspec": {
   "display_name": "Python 3 (ipykernel)",
   "language": "python",
   "name": "python3"
  },
  "language_info": {
   "codemirror_mode": {
    "name": "ipython",
    "version": 3
   },
   "file_extension": ".py",
   "mimetype": "text/x-python",
   "name": "python",
   "nbconvert_exporter": "python",
   "pygments_lexer": "ipython3",
   "version": "3.10.13"
  }
 },
 "nbformat": 4,
 "nbformat_minor": 5
}
